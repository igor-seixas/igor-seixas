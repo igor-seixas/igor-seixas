{
 "cells": [
  {
   "cell_type": "markdown",
   "metadata": {},
   "source": [
    "# Comissão do Setor de Cobranças da Imobiliária"
   ]
  },
  {
   "cell_type": "markdown",
   "metadata": {},
   "source": [
    "Esse é o notebook da automação do setor de cobrança de uma imobiliária.\n",
    "\n",
    "Para explicações detalhadas, acesse o nosso site: <a href=\"igorseixas.wordpress.com\">igorseixas.wordpress.com</a>\n",
    "\n",
    "No site temos disponibilizado a base de dados para treinamento, tendo em vista que vocês não conseguirão acessar o sistema da imobiliária."
   ]
  },
  {
   "cell_type": "markdown",
   "metadata": {},
   "source": [
    "### 1. Importando todas as bibliotecas que serão usadas"
   ]
  },
  {
   "cell_type": "code",
   "execution_count": null,
   "metadata": {},
   "outputs": [],
   "source": [
    "from selenium import webdriver\n",
    "from selenium.webdriver.common.keys import Keys\n",
    "import time\n",
    "from pathlib import Path\n",
    "import os\n",
    "import shutil\n",
    "import pandas as pd\n",
    "from datetime import datetime\n",
    "import yagmail"
   ]
  },
  {
   "cell_type": "markdown",
   "metadata": {},
   "source": [
    "### 2. Escolha do período da comissão pelo usuário e quantidade de imóveis que foram rescindidos o contrato no período"
   ]
  },
  {
   "cell_type": "code",
   "execution_count": null,
   "metadata": {},
   "outputs": [],
   "source": [
    "periodo_inicio = input('Data do início: ')\n",
    "periodo_fim = input('Data do fim: ')\n",
    "distratos = input('Quantos contratos recindidos no período: ')"
   ]
  },
  {
   "cell_type": "markdown",
   "metadata": {},
   "source": [
    "## Baixando a base de dados"
   ]
  },
  {
   "cell_type": "markdown",
   "metadata": {},
   "source": [
    "### 3. Definindo paramêtros do Chromedrive"
   ]
  },
  {
   "cell_type": "code",
   "execution_count": null,
   "metadata": {},
   "outputs": [],
   "source": [
    "user_agent = 'Mozilla/5.0 (X11; Linux x86_64) AppleWebKit/537.36 (KHTML, like Gecko) Chrome/60.0.3112.50 Safari/537.36'\n",
    "options = webdriver.ChromeOptions()\n",
    "options.add_argument(f'user-agent={user_agent}')\n",
    "options.add_argument('--disable-blink-features=AutomationControlled')\n",
    "options.add_experimental_option(\"excludeSwitches\", [\"enable-automation\"])\n",
    "options.add_experimental_option('useAutomationExtension', False)\n",
    "driver = webdriver.Chrome(options=options)"
   ]
  },
  {
   "cell_type": "markdown",
   "metadata": {},
   "source": [
    "Todos os options foram necessários para que o site que contem a base de dados não bloqueasse o acesso via selenium"
   ]
  },
  {
   "cell_type": "markdown",
   "metadata": {},
   "source": [
    "### 4. Entrando no site"
   ]
  },
  {
   "cell_type": "code",
   "execution_count": null,
   "metadata": {},
   "outputs": [],
   "source": [
    "driver.get('http://signin.ingaia.com.br/?provider=locacao')\n",
    "time.sleep(5)"
   ]
  },
  {
   "cell_type": "markdown",
   "metadata": {},
   "source": [
    "### 5. Fazendo o login"
   ]
  },
  {
   "cell_type": "code",
   "execution_count": null,
   "metadata": {},
   "outputs": [],
   "source": [
    "#encontrando os campos do formulário pelo id\n",
    "form_email = driver.find_element_by_id('email')\n",
    "form_senha = driver.find_element_by_id('password')\n",
    "logar = driver.find_element_by_id('submitButton')\n",
    "\n",
    "#completando os campos\n",
    "form_email.send_keys('email_do_login')\n",
    "time.sleep(3)\n",
    "form_senha.send_keys('senha_de_acesso')\n",
    "time.sleep(2)\n",
    "logar.click()\n",
    "time.sleep(20)"
   ]
  },
  {
   "cell_type": "markdown",
   "metadata": {},
   "source": [
    "### 6. Buscando o relatório"
   ]
  },
  {
   "cell_type": "code",
   "execution_count": null,
   "metadata": {},
   "outputs": [],
   "source": [
    "empresa = driver.find_element_by_id('bootstrapmenu-tabEmpresa')\n",
    "empresa.click()\n",
    "time.sleep(2)\n",
    "relatorio = driver.find_element_by_link_text('Relatórios')\n",
    "relatorio.click()\n",
    "time.sleep(2)"
   ]
  },
  {
   "cell_type": "code",
   "execution_count": null,
   "metadata": {},
   "outputs": [],
   "source": [
    "composicao_cobranca = driver.find_element_by_link_text('Composição das cobranças por liquidação (104C)')\n",
    "composicao_cobranca.click()\n",
    "time.sleep(2)"
   ]
  },
  {
   "cell_type": "code",
   "execution_count": null,
   "metadata": {},
   "outputs": [],
   "source": [
    "mes = driver.find_element_by_id('LIQUIDACAO')\n",
    "mes.click()\n",
    "mes.send_keys('s')\n",
    "mes.click()\n",
    "time.sleep(2)\n",
    "data_inicial = driver.find_element_by_name('LIQUIDACAO_INICIO')\n",
    "data_inicial.click()\n",
    "data_inicial.send_keys(Keys.BACKSPACE * 10)\n",
    "time.sleep(2)\n",
    "data_inicial.send_keys(periodo_inicio)\n",
    "time.sleep(2)\n",
    "data_final = driver.find_element_by_name('LIQUIDACAO_FIM')\n",
    "data_final.click()\n",
    "time.sleep(2)\n",
    "data_final.send_keys(Keys.BACKSPACE * 10)\n",
    "data_final.send_keys(periodo_fim)\n",
    "data_final.send_keys(Keys.ENTER)\n",
    "time.sleep(2)"
   ]
  },
  {
   "cell_type": "code",
   "execution_count": null,
   "metadata": {},
   "outputs": [],
   "source": [
    "exportar = driver.find_element_by_css_selector('button.btnPadraoExportarRelatorios')\n",
    "exportar.click()\n",
    "time.sleep(1)\n",
    "exp_excel = driver.find_element_by_id('btnExportacaoExcel')\n",
    "exp_excel.click()\n",
    "time.sleep(30)\n"
   ]
  },
  {
   "cell_type": "markdown",
   "metadata": {},
   "source": [
    "### 7. Descobrindo o nome do ultimo arquivo baixado"
   ]
  },
  {
   "cell_type": "code",
   "execution_count": null,
   "metadata": {},
   "outputs": [],
   "source": [
    "#from pathlib import Path\n",
    "#import os\n",
    "\n",
    "caminho = Path('/Users/igorseixas/Downloads/')\n",
    "arquivos = sorted(Path(caminho).iterdir(), key=os.path.getmtime, reverse=True)\n",
    "\n",
    "for arquivo in arquivos:\n",
    "    arquivo_str = str(arquivo)\n",
    "    nome_arquivo = arquivo_str[28:]\n",
    "    break\n",
    "\n",
    "time.sleep(1)\n"
   ]
  },
  {
   "cell_type": "markdown",
   "metadata": {},
   "source": [
    "### 8. Copiando o ultimo arquivo na pasta correta"
   ]
  },
  {
   "cell_type": "code",
   "execution_count": null,
   "metadata": {},
   "outputs": [],
   "source": [
    "#import shutil\n",
    "\n",
    "arquivo_copiar = Path(f'/Users/igorseixas/Downloads/{nome_arquivo}')\n",
    "arquivo_colar = Path(f'/Users/igorseixas/PycharmProjects/Comissao_Cobranca_Automacao/{nome_arquivo}')\n",
    "shutil.copy2(arquivo_copiar, arquivo_colar)"
   ]
  },
  {
   "cell_type": "markdown",
   "metadata": {},
   "source": [
    "## Iniciando o tratamento da base de dados"
   ]
  },
  {
   "cell_type": "markdown",
   "metadata": {},
   "source": [
    "### 9. Criando o dataframe"
   ]
  },
  {
   "cell_type": "code",
   "execution_count": null,
   "metadata": {
    "scrolled": true
   },
   "outputs": [],
   "source": [
    "comissao_df = pd.read_excel(nome_arquivo)"
   ]
  },
  {
   "cell_type": "markdown",
   "metadata": {},
   "source": [
    "## 10. Tratando o dataframe"
   ]
  },
  {
   "cell_type": "markdown",
   "metadata": {},
   "source": [
    "#### 10.1. Nomeando as colunas"
   ]
  },
  {
   "cell_type": "code",
   "execution_count": null,
   "metadata": {
    "scrolled": true
   },
   "outputs": [],
   "source": [
    "comissao_df.columns = comissao_df.iloc[2]\n"
   ]
  },
  {
   "cell_type": "markdown",
   "metadata": {},
   "source": [
    "#### 10.2. Selecionando as colunas que interessam"
   ]
  },
  {
   "cell_type": "code",
   "execution_count": null,
   "metadata": {
    "scrolled": true
   },
   "outputs": [],
   "source": [
    "comissao_df = comissao_df[['Nome', 'Descrição', 'Vencimento', 'Liquidação', 'Valor']]\n"
   ]
  },
  {
   "cell_type": "markdown",
   "metadata": {},
   "source": [
    "#### 10.3. Filtrar apenas as linhas onde tenha Multa"
   ]
  },
  {
   "cell_type": "code",
   "execution_count": null,
   "metadata": {
    "scrolled": true
   },
   "outputs": [],
   "source": [
    "multas_df = comissao_df[comissao_df['Descrição'] == 'Multa']\n"
   ]
  },
  {
   "cell_type": "markdown",
   "metadata": {},
   "source": [
    "#### 10.4. Criando novas colunas para Dias de Atraso e Valor Comissão"
   ]
  },
  {
   "cell_type": "code",
   "execution_count": null,
   "metadata": {
    "scrolled": true
   },
   "outputs": [],
   "source": [
    "multas_df = multas_df.assign(Atraso=0)\n",
    "multas_df = multas_df.assign(Comissão=0)"
   ]
  },
  {
   "cell_type": "markdown",
   "metadata": {},
   "source": [
    "#### 10.5. Calcular quantos dias de atraso e adicionar a informação na coluna\n"
   ]
  },
  {
   "cell_type": "code",
   "execution_count": null,
   "metadata": {},
   "outputs": [],
   "source": [
    "for i, data in enumerate(multas_df['Vencimento']):\n",
    "    date_format = \"%d/%m/%Y\"\n",
    "    a = datetime.strptime(multas_df.iloc[i, 2], date_format)\n",
    "    b = datetime.strptime(multas_df.iloc[i, 3], date_format)\n",
    "    delta = b - a\n",
    "    multas_df.iloc[i, 5] = delta.days  # <- resultado em dias\n",
    "#     ^ substitui o valor pelo resultado de dias"
   ]
  },
  {
   "cell_type": "markdown",
   "metadata": {},
   "source": [
    "#### 10.6. Calcular o valor da comissão com base na quantidade de dias em atraso"
   ]
  },
  {
   "cell_type": "code",
   "execution_count": null,
   "metadata": {
    "scrolled": true
   },
   "outputs": [],
   "source": [
    "for i, dias in enumerate(multas_df['Atraso']):\n",
    "    multas_df.iloc[i, 4] = multas_df.iloc[i, 4].replace(',', '.') #tirando as virgulas e trocando por .\n",
    "    multas_df.iloc[i, 4] = float(multas_df.iloc[i, 4]) #transformando a string em float\n",
    "    if dias <= 5:\n",
    "        pass\n",
    "    elif dias > 5 and dias <= 15:\n",
    "        multas_df.iloc[i, 6] = multas_df.iloc[i, 4] * 0.25\n",
    "    elif dias > 15 and dias <= 30:\n",
    "        multas_df.iloc[i, 6] = multas_df.iloc[i, 4] * 0.15\n",
    "    else:\n",
    "        multas_df.iloc[i, 6] = multas_df.iloc[i, 4] * 0.10\n"
   ]
  },
  {
   "cell_type": "markdown",
   "metadata": {},
   "source": [
    "#### 10.7. Adicionando a linha total com o valor do total da comissão."
   ]
  },
  {
   "cell_type": "code",
   "execution_count": null,
   "metadata": {
    "scrolled": true
   },
   "outputs": [],
   "source": [
    "final_df = len(multas_df['Nome']) + 1\n",
    "soma_comissao = multas_df['Comissão'].sum()\n",
    "multas_df.loc[final_df] = ['Total', '', '', '', '', '', f'R$ {soma_comissao:.2f}']\n"
   ]
  },
  {
   "cell_type": "markdown",
   "metadata": {},
   "source": [
    "#### 10.8. Adicionando a linha com a soma dos contratos rescindidos"
   ]
  },
  {
   "cell_type": "code",
   "execution_count": null,
   "metadata": {},
   "outputs": [],
   "source": [
    "comissao_rescindidos = 50\n",
    "total_rescindidos = distratos * comissao_rescindidos\n",
    "final_df = len(multas_df['Nome']) + 1\n",
    "multas_df.loc[final_df] = ['Rescindidos no mês', '', '', '', f'R$ {comissao_rescindidos:.2f}', distratos , f'R$ {total_rescindidos:.2f}']\n"
   ]
  },
  {
   "cell_type": "markdown",
   "metadata": {},
   "source": [
    "#### 10.9. Adicionando o Total Geral"
   ]
  },
  {
   "cell_type": "code",
   "execution_count": null,
   "metadata": {},
   "outputs": [],
   "source": [
    "final_df = len(multas_df['Nome']) + 1\n",
    "total_geral = soma_comissao + total_rescindidos\n",
    "multas_df.loc[final_df] = ['TOTAL GERAL', '', '', '', '', '' , f'R$ {total_geral:.2f}']\n",
    "display(multas_df)"
   ]
  },
  {
   "cell_type": "markdown",
   "metadata": {},
   "source": [
    "## 11. Exportando o dataframe como planilha Excel"
   ]
  },
  {
   "cell_type": "code",
   "execution_count": null,
   "metadata": {},
   "outputs": [],
   "source": [
    "multas_df.to_excel('Comissao Cobrança.xlsx')"
   ]
  },
  {
   "cell_type": "markdown",
   "metadata": {},
   "source": [
    "## 12. Enviando a planilha por email"
   ]
  },
  {
   "cell_type": "code",
   "execution_count": null,
   "metadata": {},
   "outputs": [],
   "source": [
    "email = 'email@do_remetente.com'\n",
    "destinatario = ['email@do_destinatario1.com', 'email@do_destinatario2.com']\n",
    "\n",
    "usuario = yagmail.SMTP(user=email, password='senha_do_email')\n",
    "\n",
    "usuario.send(to=destinatario, subject='Comissão da cobrança', contents=f'Oi,\\nSegue em anexo a comissão do setor de cobrança.\\nPeríodo: {periodo_inicio} a {periodo_fim}\\n\\n Atenciosamente,', attachments='Comissao Cobrança.xlsx')\n",
    "\n",
    "print(f'Email enviado de {email} para {destinatario}.')\n",
    "\n"
   ]
  }
 ],
 "metadata": {
  "kernelspec": {
   "display_name": "Python 3",
   "language": "python",
   "name": "python3"
  },
  "language_info": {
   "codemirror_mode": {
    "name": "ipython",
    "version": 3
   },
   "file_extension": ".py",
   "mimetype": "text/x-python",
   "name": "python",
   "nbconvert_exporter": "python",
   "pygments_lexer": "ipython3",
   "version": "3.8.5"
  }
 },
 "nbformat": 4,
 "nbformat_minor": 4
}
